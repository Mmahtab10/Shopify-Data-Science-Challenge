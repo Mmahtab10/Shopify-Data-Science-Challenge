{
  "nbformat": 4,
  "nbformat_minor": 0,
  "metadata": {
    "colab": {
      "name": "Shopify_ds_challenge.ipynb",
      "provenance": [],
      "toc_visible": true,
      "authorship_tag": "ABX9TyNdFnHruMK/3iDzCb1ZnInz",
      "include_colab_link": true
    },
    "kernelspec": {
      "name": "python3",
      "display_name": "Python 3"
    }
  },
  "cells": [
    {
      "cell_type": "markdown",
      "metadata": {
        "id": "view-in-github",
        "colab_type": "text"
      },
      "source": [
        "<a href=\"https://colab.research.google.com/github/Mmahtab10/Shopify-Data-Science-Challenge/blob/master/Shopify_ds_challenge.ipynb\" target=\"_parent\"><img src=\"https://colab.research.google.com/assets/colab-badge.svg\" alt=\"Open In Colab\"/></a>"
      ]
    },
    {
      "cell_type": "markdown",
      "metadata": {
        "id": "HzEI2VnVs4JV",
        "colab_type": "text"
      },
      "source": [
        "# Import libraries "
      ]
    },
    {
      "cell_type": "code",
      "metadata": {
        "id": "e6QbRXk8rYyG",
        "colab_type": "code",
        "colab": {}
      },
      "source": [
        "import pandas as pd \n",
        "import tensorflow as tf \n",
        "#import matplotlib.plyplot as plt\n",
        "import numpy as np"
      ],
      "execution_count": 5,
      "outputs": []
    },
    {
      "cell_type": "markdown",
      "metadata": {
        "id": "k5TfhwXhtvYl",
        "colab_type": "text"
      },
      "source": [
        "# Extracting the CSV file"
      ]
    },
    {
      "cell_type": "code",
      "metadata": {
        "id": "jrhDdpY3xfKI",
        "colab_type": "code",
        "colab": {
          "base_uri": "https://localhost:8080/",
          "height": 170
        },
        "outputId": "12bbe2a9-3c89-45b4-e6d1-da913201eb65"
      },
      "source": [
        "dataset = pd.read_csv('https://raw.githubusercontent.com/Mmahtab10/Shopify-Data-Science-Challenge/master/Sneaker_dataset.csv')\n",
        "\n",
        "dataset.total_items.describe()"
      ],
      "execution_count": 8,
      "outputs": [
        {
          "output_type": "execute_result",
          "data": {
            "text/plain": [
              "count    5000.00000\n",
              "mean        8.78720\n",
              "std       116.32032\n",
              "min         1.00000\n",
              "25%         1.00000\n",
              "50%         2.00000\n",
              "75%         3.00000\n",
              "max      2000.00000\n",
              "Name: total_items, dtype: float64"
            ]
          },
          "metadata": {
            "tags": []
          },
          "execution_count": 8
        }
      ]
    },
    {
      "cell_type": "code",
      "metadata": {
        "id": "_5Rk5RLD1jo7",
        "colab_type": "code",
        "colab": {
          "base_uri": "https://localhost:8080/",
          "height": 170
        },
        "outputId": "5bdea8ed-732c-4fd4-83ec-ae2667c6d9b8"
      },
      "source": [
        "dataset.order_amount.describe()"
      ],
      "execution_count": 9,
      "outputs": [
        {
          "output_type": "execute_result",
          "data": {
            "text/plain": [
              "count      5000.000000\n",
              "mean       3145.128000\n",
              "std       41282.539349\n",
              "min          90.000000\n",
              "25%         163.000000\n",
              "50%         284.000000\n",
              "75%         390.000000\n",
              "max      704000.000000\n",
              "Name: order_amount, dtype: float64"
            ]
          },
          "metadata": {
            "tags": []
          },
          "execution_count": 9
        }
      ]
    },
    {
      "cell_type": "markdown",
      "metadata": {
        "id": "Ff0Am7KU9nJc",
        "colab_type": "text"
      },
      "source": [
        "By judging the dataset values, the distribution is Skewed towards lower values, which would make the median value a suitable fit for the AOV. "
      ]
    },
    {
      "cell_type": "code",
      "metadata": {
        "id": "DEMhjFUa-c7y",
        "colab_type": "code",
        "colab": {
          "base_uri": "https://localhost:8080/",
          "height": 221
        },
        "outputId": "a1644ec5-29ad-4045-be9b-4a729ba81e74"
      },
      "source": [
        "print(dataset.order_amount.median)"
      ],
      "execution_count": 10,
      "outputs": [
        {
          "output_type": "stream",
          "text": [
            "<bound method Series.median of 0       224\n",
            "1        90\n",
            "2       144\n",
            "3       156\n",
            "4       156\n",
            "       ... \n",
            "4995    330\n",
            "4996    234\n",
            "4997    351\n",
            "4998    354\n",
            "4999    288\n",
            "Name: order_amount, Length: 5000, dtype: int64>\n"
          ],
          "name": "stdout"
        }
      ]
    }
  ]
}
